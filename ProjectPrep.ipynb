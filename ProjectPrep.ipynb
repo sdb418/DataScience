{
 "cells": [
  {
   "cell_type": "code",
   "execution_count": 6,
   "metadata": {
    "collapsed": true
   },
   "outputs": [],
   "source": [
    "import pandas as pd"
   ]
  },
  {
   "cell_type": "code",
   "execution_count": 7,
   "metadata": {
    "collapsed": true
   },
   "outputs": [],
   "source": [
    "import numpy as np"
   ]
  },
  {
   "cell_type": "code",
   "execution_count": 9,
   "metadata": {
    "collapsed": false
   },
   "outputs": [
    {
     "name": "stdout",
     "output_type": "stream",
     "text": [
      "showing info https://raw.githubusercontent.com/nltk/nltk_data/gh-pages/index.xml\n"
     ]
    }
   ],
   "source": [
    "import matplotlib.pyplot as plt\n",
    "import re\n",
    "import nltk\n",
    "nltk.download()\n",
    "from gensim import corpora, models\n",
    "from nltk.corpus import stopwords"
   ]
  },
  {
   "cell_type": "code",
   "execution_count": 63,
   "metadata": {
    "collapsed": false
   },
   "outputs": [],
   "source": [
    "df = pd.read_csv(\"DataSetMaster.csv\")\n",
    "dfo = df\n",
    "from sklearn.model_selection import train_test_split\n",
    "df, dfo = train_test_split(df, test_size = 0.3)"
   ]
  },
  {
   "cell_type": "code",
   "execution_count": 11,
   "metadata": {
    "collapsed": false
   },
   "outputs": [],
   "source": [
    "df = pd.DataFrame(df)"
   ]
  },
  {
   "cell_type": "code",
   "execution_count": 64,
   "metadata": {
    "collapsed": false
   },
   "outputs": [],
   "source": [
    "stoplist = set(stopwords.words(\"english\"))\n",
    "clean_data = []\n",
    "for review in df.values:\n",
    "        # Remove punctuations\n",
    "        \n",
    "        review[0] = re.sub(r'[^a-zA-Z]', ' ', review[0])\n",
    "        # To lowercase\n",
    "        review[0] = review[0].lower()\n",
    "        # Remove stop words\n",
    "        texts = [word for word in review[0].lower().split() if word not in stoplist]\n",
    "        try:\n",
    "            #review[0].append(' '.join(texts))\n",
    "            review[0] = ' '.join(texts)\n",
    "        except:\n",
    "            pass\n"
   ]
  },
  {
   "cell_type": "code",
   "execution_count": 65,
   "metadata": {
    "collapsed": false
   },
   "outputs": [
    {
     "data": {
      "text/plain": [
       "array([ 'bra secure hides stuff back bands shoulders wide hurt love bra much purchased wear regular bra thing sometimes come blouses low cleavage open shoulders',\n",
       "       'Clothing & Jewellery'], dtype=object)"
      ]
     },
     "execution_count": 65,
     "metadata": {},
     "output_type": "execute_result"
    }
   ],
   "source": [
    "df.values[15000]"
   ]
  },
  {
   "cell_type": "code",
   "execution_count": 66,
   "metadata": {
    "collapsed": false
   },
   "outputs": [
    {
     "data": {
      "image/png": "[encoded data removed]",
      "text/plain": [
       "<matplotlib.figure.Figure at 0x123791400>"
      ]
     },
     "metadata": {},
     "output_type": "display_data"
    }
   ],
   "source": [
    "import matplotlib.pyplot as plt\n",
    "lens = []\n",
    "for i in df.values:\n",
    "    lens.append(np.log(len(i[0])))\n",
    "plt.hist(lens)\n",
    "plt.show()"
   ]
  },
  {
   "cell_type": "code",
   "execution_count": 67,
   "metadata": {
    "collapsed": false
   },
   "outputs": [],
   "source": [
    "categories = df['Class'].unique()"
   ]
  },
  {
   "cell_type": "code",
   "execution_count": 68,
   "metadata": {
    "collapsed": false
   },
   "outputs": [
    {
     "data": {
      "text/plain": [
       "array(['grocery', 'Apps for Android', 'patio&lawn&garden', 'Electronics',\n",
       "       'digitalmusic', 'HomeAndKitchen', 'SportsAndOutdoors',\n",
       "       'Cellphone Accessories', 'Pet Supplies', 'videogames',\n",
       "       'CD & Vinyl ', 'Movies & TV', 'Clothing & Jewellery',\n",
       "       'Amazon Instant Video', 'music instruments',\n",
       "       'Tools & Home Improvement', 'ToysAndGames', 'baby', 'Beauty',\n",
       "       'Health', 'Automobile', 'Office Products'], dtype=object)"
      ]
     },
     "execution_count": 68,
     "metadata": {},
     "output_type": "execute_result"
    }
   ],
   "source": [
    "categories"
   ]
  },
  {
   "cell_type": "code",
   "execution_count": 70,
   "metadata": {
    "collapsed": false
   },
   "outputs": [
    {
     "data": {
      "text/plain": [
       "<15400x44342 sparse matrix of type '<class 'numpy.int64'>'\n",
       "\twith 882654 stored elements in Compressed Sparse Row format>"
      ]
     },
     "execution_count": 70,
     "metadata": {},
     "output_type": "execute_result"
    }
   ],
   "source": [
    "from sklearn.feature_extraction.text import CountVectorizer\n",
    "count_vect = CountVectorizer()\n",
    "X_train_counts = count_vect.fit_transform(df['Review'])\n",
    "X_train_counts"
   ]
  },
  {
   "cell_type": "code",
   "execution_count": 76,
   "metadata": {
    "collapsed": false
   },
   "outputs": [
    {
     "data": {
      "text/plain": [
       "(15400, 44342)"
      ]
     },
     "execution_count": 76,
     "metadata": {},
     "output_type": "execute_result"
    }
   ],
   "source": [
    "from sklearn.feature_extraction.text import TfidfTransformer\n",
    "tf_transformer = TfidfTransformer(use_idf=False).fit(X_train_counts)\n",
    "X_train_tf = tf_transformer.transform(X_train_counts)\n",
    "X_train_tf.shape\n",
    "\n",
    "\n",
    "tfidf_transformer = TfidfTransformer()\n",
    "X_train_tfidf = tfidf_transformer.fit_transform(X_train_counts)\n",
    "X_train_tfidf.shape"
   ]
  },
  {
   "cell_type": "code",
   "execution_count": 77,
   "metadata": {
    "collapsed": false
   },
   "outputs": [],
   "source": [
    "from sklearn.naive_bayes import MultinomialNB\n",
    "clf = MultinomialNB().fit(X_train_tfidf, df['Class'])"
   ]
  },
  {
   "cell_type": "code",
   "execution_count": 119,
   "metadata": {
    "collapsed": false
   },
   "outputs": [
    {
     "name": "stdout",
     "output_type": "stream",
     "text": [
      "'Quality of cards, money, houses,hotels are best. Houses and Hotels are made of wood. The dices are also of wood with numbers on them which are better than dices with dots. Good bank central bracket to keep money and cards which has separate sections for for everything. Tokens are heavy and good quality and made of brass which are better than plastic tokens. Overall a steal away at this price and this game is fun to play with friends and family. Flipkart delivered this product in 3 days.' => ToysAndGames\n"
     ]
    }
   ],
   "source": [
    "docs_new = [\"Quality of cards, money, houses,hotels are best. Houses and Hotels are made of wood. The dices are also of wood with numbers on them which are better than dices with dots. Good bank central bracket to keep money and cards which has separate sections for for everything. Tokens are heavy and good quality and made of brass which are better than plastic tokens. Overall a steal away at this price and this game is fun to play with friends and family. Flipkart delivered this product in 3 days.\"]\n",
    "\n",
    "#docs_new = [\"Henry Winkler stars in this remake of the classic tale of Scrooge.  This one is set in post-Depression era America and is oneof the best I've ever seen.  Winkler is equally at ease as a young man with a girlfriend or an old man with an attitude.  I watch this every Christmas and was delighted to discover it on DVD.  You'll love it!\"]\n",
    "X_new_counts = count_vect.transform(docs_new)\n",
    "X_new_tfidf = tfidf_transformer.transform(X_new_counts)\n",
    "\n",
    "predictedMNB = clf.predict(X_new_tfidf)\n",
    "predicted\n",
    "for doc, category in zip(docs_new, predictedMNB):\n",
    "    print('%r => %s' % (doc, category))"
   ]
  },
  {
   "cell_type": "code",
   "execution_count": 79,
   "metadata": {
    "collapsed": true
   },
   "outputs": [],
   "source": [
    "from sklearn.pipeline import Pipeline\n",
    "text_clf = Pipeline([('vect', CountVectorizer()),\n",
    "                     ('tfidf', TfidfTransformer()),\n",
    "                     ('clf', MultinomialNB()),\n",
    "])"
   ]
  },
  {
   "cell_type": "code",
   "execution_count": 81,
   "metadata": {
    "collapsed": false
   },
   "outputs": [
    {
     "data": {
      "text/plain": [
       "0.88651515151515148"
      ]
     },
     "execution_count": 81,
     "metadata": {},
     "output_type": "execute_result"
    }
   ],
   "source": [
    "text_clf = text_clf.fit(df['Review'], df['Class'])\n",
    "#docs_test = dfo.values\n",
    "predicted = text_clf.predict(dfo['Review'])\n",
    "np.mean(predicted == dfo['Class'])         \n"
   ]
  },
  {
   "cell_type": "code",
   "execution_count": 82,
   "metadata": {
    "collapsed": false
   },
   "outputs": [
    {
     "data": {
      "text/plain": [
       "0.86030303030303035"
      ]
     },
     "execution_count": 82,
     "metadata": {},
     "output_type": "execute_result"
    }
   ],
   "source": [
    "from sklearn.linear_model import SGDClassifier\n",
    "text_clf = Pipeline([('vect', CountVectorizer()),\n",
    "                     ('tfidf', TfidfTransformer()),\n",
    "                     ('clf', SGDClassifier(loss='hinge', penalty='l2',\n",
    "                                           alpha=1e-3, n_iter=5, random_state=42)),\n",
    "])\n",
    "text_clf = text_clf.fit(df['Review'], df['Class'])\n",
    "predicted = text_clf.predict(dfo['Review'])\n",
    "np.mean(predicted == dfo['Class']) "
   ]
  },
  {
   "cell_type": "code",
   "execution_count": 114,
   "metadata": {
    "collapsed": false
   },
   "outputs": [
    {
     "name": "stdout",
     "output_type": "stream",
     "text": [
      "                          precision    recall  f1-score   support\n",
      "\n",
      "                 grocery       0.88      0.93      0.90       328\n",
      "        Apps for Android       0.89      0.82      0.85       260\n",
      "       patio&lawn&garden       0.83      0.75      0.79       296\n",
      "             Electronics       0.81      0.92      0.86       322\n",
      "            digitalmusic       0.92      0.82      0.87       295\n",
      "          HomeAndKitchen       0.77      0.89      0.82       306\n",
      "       SportsAndOutdoors       0.85      0.84      0.85       308\n",
      "   Cellphone Accessories       0.88      0.69      0.77       294\n",
      "            Pet Supplies       0.82      0.81      0.81       297\n",
      "              videogames       0.88      0.82      0.85       320\n",
      "             CD & Vinyl        0.84      0.87      0.85       291\n",
      "             Movies & TV       0.86      0.90      0.88       291\n",
      "    Clothing & Jewellery       0.84      0.95      0.89       298\n",
      "    Amazon Instant Video       0.83      0.64      0.72       309\n",
      "       music instruments       0.89      0.95      0.92       301\n",
      "Tools & Home Improvement       0.87      0.81      0.84       285\n",
      "            ToysAndGames       0.83      0.86      0.84       287\n",
      "                    baby       0.92      0.98      0.95       307\n",
      "                  Beauty       0.92      0.94      0.93       322\n",
      "                  Health       0.90      0.90      0.90       298\n",
      "              Automobile       0.91      0.85      0.88       302\n",
      "         Office Products       0.83      0.97      0.89       283\n",
      "\n",
      "             avg / total       0.86      0.86      0.86      6600\n",
      "\n"
     ]
    }
   ],
   "source": [
    "from sklearn import metrics\n",
    "print(metrics.classification_report(dfo['Class'], predicted,\n",
    "    target_names=categories))"
   ]
  },
  {
   "cell_type": "code",
   "execution_count": 116,
   "metadata": {
    "collapsed": false
   },
   "outputs": [
    {
     "data": {
      "text/plain": [
       "array([[304,   1,   0,   0,   4,   1,   1,   0,   0,   0,  10,   2,   0,\n",
       "          3,   0,   1,   0,   0,   0,   0,   0,   1],\n",
       "       [  1, 212,   2,   0,   0,   7,   0,   3,   0,   0,   2,   0,   0,\n",
       "          0,   0,   4,   2,   3,   0,   0,   1,  23],\n",
       "       [  2,   4, 221,   3,   0,   3,   5,   2,   2,  15,   0,   3,   2,\n",
       "          8,  11,   0,   0,   0,   3,   4,   8,   0],\n",
       "       [  0,   0,   1, 295,   0,   0,   0,   0,   6,   0,   0,   2,   2,\n",
       "          8,   0,   1,   3,   0,   3,   0,   1,   0],\n",
       "       [  6,   0,   0,   0, 242,   0,   0,   0,   0,   0,  23,   1,   1,\n",
       "          0,   0,   0,   4,  12,   0,   3,   0,   3],\n",
       "       [  0,   1,   3,   2,   0, 271,   1,   3,   5,   1,   0,   5,   0,\n",
       "          4,   0,   1,   3,   3,   0,   3,   0,   0],\n",
       "       [  3,   1,   5,   4,   0,   8, 260,   1,   0,   0,   2,   3,   3,\n",
       "          2,   1,   5,   8,   0,   1,   1,   0,   0],\n",
       "       [  1,  12,   3,   0,   5,  34,   2, 203,  10,   0,   2,   7,   0,\n",
       "          0,   1,   1,   2,   4,   1,   5,   0,   1],\n",
       "       [  1,   1,   3,  15,   0,   2,   7,   3, 241,   2,   0,   4,   2,\n",
       "          3,   1,   1,   4,   1,   5,   1,   0,   0],\n",
       "       [  0,   1,   4,   6,   0,   1,   3,   2,   7, 264,   0,   2,   5,\n",
       "          6,   2,   2,   6,   0,   3,   2,   4,   0],\n",
       "       [ 15,   1,   0,   0,  10,   0,   0,   1,   0,   2, 254,   1,   0,\n",
       "          1,   2,   3,   0,   1,   0,   0,   0,   0],\n",
       "       [  0,   1,   0,   1,   0,  13,   0,   1,   2,   3,   0, 263,   0,\n",
       "          0,   3,   2,   0,   1,   0,   1,   0,   0],\n",
       "       [  2,   0,   1,   0,   0,   1,   0,   0,   2,   0,   0,   0, 283,\n",
       "          0,   0,   1,   2,   0,   1,   0,   5,   0],\n",
       "       [  5,   1,   6,  29,   0,   1,  10,   4,   9,   2,   3,   2,  16,\n",
       "        199,   3,   5,   7,   0,   1,   0,   4,   2],\n",
       "       [  0,   0,   3,   0,   0,   0,   0,   1,   4,   1,   0,   1,   0,\n",
       "          3, 285,   0,   0,   0,   0,   1,   2,   0],\n",
       "       [  1,   1,   1,   0,   0,   1,   3,   2,   0,   1,   5,   1,   4,\n",
       "          1,   1, 232,   3,   0,   1,   0,   0,  27],\n",
       "       [  0,   1,   1,   1,   0,   1,   6,   1,   3,   3,   1,   3,   9,\n",
       "          1,   5,   5, 246,   0,   0,   0,   0,   0],\n",
       "       [  0,   0,   0,   0,   2,   0,   0,   0,   0,   0,   0,   1,   0,\n",
       "          0,   0,   0,   1, 302,   0,   1,   0,   0],\n",
       "       [  0,   0,   0,   5,   0,   1,   1,   0,   0,   4,   2,   0,   4,\n",
       "          0,   0,   0,   1,   0, 304,   0,   0,   0],\n",
       "       [  0,   0,  10,   1,   1,   4,   4,   3,   0,   0,   0,   1,   0,\n",
       "          1,   0,   0,   2,   2,   1, 267,   1,   0],\n",
       "       [  4,   1,   2,   2,   0,   0,   4,   0,   4,   3,   0,   3,   4,\n",
       "          0,   5,   0,   2,   0,   5,   7, 256,   0],\n",
       "       [  0,   0,   0,   2,   0,   3,   0,   0,   0,   0,   0,   0,   0,\n",
       "          0,   1,   2,   0,   0,   0,   1,   0, 274]])"
      ]
     },
     "execution_count": 116,
     "metadata": {},
     "output_type": "execute_result"
    }
   ],
   "source": [
    "metrics.confusion_matrix(dfo['Class'], predicted)"
   ]
  }
 ],
 "metadata": {
  "anaconda-cloud": {},
  "kernelspec": {
   "display_name": "Python 3",
   "language": "python",
   "name": "python3"
  },
  "language_info": {
   "codemirror_mode": {
    "name": "ipython",
    "version": 3
   },
   "file_extension": ".py",
   "mimetype": "text/x-python",
   "name": "python",
   "nbconvert_exporter": "python",
   "pygments_lexer": "ipython3",
   "version": "3.6.0"
  }
 },
 "nbformat": 4,
 "nbformat_minor": 1
}
