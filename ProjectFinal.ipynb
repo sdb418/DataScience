{
 "cells": [
  {
   "cell_type": "code",
   "execution_count": 1,
   "metadata": {
    "collapsed": false
   },
   "outputs": [],
   "source": [
    "#import all the libraries needed\n",
    "import pandas as pd\n",
    "import numpy as np\n",
    "import matplotlib.pyplot as plt\n",
    "import re\n",
    "import nltk\n",
    "#nltk.download()\n",
    "from gensim import corpora, models\n",
    "from nltk.corpus import stopwords\n",
    "from sklearn.model_selection import train_test_split\n",
    "from sklearn.feature_extraction.text import TfidfTransformer\n",
    "from sklearn.feature_extraction.text import TfidfVectorizer\n",
    "from sklearn.pipeline import Pipeline\n",
    "from sklearn.feature_extraction.text import CountVectorizer\n",
    "from sklearn import metrics\n",
    "from sklearn.linear_model import LogisticRegression\n",
    "from sklearn.ensemble import RandomForestClassifier\n",
    "from sklearn.linear_model import SGDClassifier\n",
    "from sklearn.dummy import DummyClassifier\n",
    "from sklearn.tree import DecisionTreeClassifier\n",
    "from sklearn.naive_bayes import MultinomialNB\n",
    "from nltk import word_tokenize          \n",
    "from nltk.stem import WordNetLemmatizer \n",
    "class LemmaTokenizer(object):\n",
    "    def __init__(self):\n",
    "        self.wnl = WordNetLemmatizer()\n",
    "    def __call__(self, doc):\n",
    "        return [self.wnl.lemmatize(t) for t in word_tokenize(doc)]"
   ]
  },
  {
   "cell_type": "code",
   "execution_count": 2,
   "metadata": {
    "collapsed": false
   },
   "outputs": [],
   "source": [
    "##get the dataset \n",
    "data = pd.read_csv(\"DataSetMaster.csv\")"
   ]
  },
  {
   "cell_type": "code",
   "execution_count": 3,
   "metadata": {
    "collapsed": true
   },
   "outputs": [],
   "source": [
    "#populate the stoplist from the nltk corpus\n",
    "stoplist = set(stopwords.words(\"english\"))"
   ]
  },
  {
   "cell_type": "code",
   "execution_count": 4,
   "metadata": {
    "collapsed": true
   },
   "outputs": [],
   "source": [
    "#Data preparation and cleaning\n",
    "for review in data.values:\n",
    "        # Remove punctuations\n",
    "        \n",
    "        review[0] = re.sub(r'[^a-zA-Z]', ' ', review[0])\n",
    "        # To lowercase\n",
    "        review[0] = review[0].lower()\n",
    "        # Remove stop words\n",
    "        texts = [word for word in review[0].lower().split() if word not in stoplist]\n",
    "        try:\n",
    "            #review[0].append(' '.join(texts))\n",
    "            review[0] = ' '.join(texts)\n",
    "        except:\n",
    "            pass"
   ]
  },
  {
   "cell_type": "code",
   "execution_count": 5,
   "metadata": {
    "collapsed": true
   },
   "outputs": [],
   "source": [
    "# split the dataset into training and testing data\n",
    "train, test = train_test_split(data, test_size = 0.3)# splitting into test and train data\n",
    "X_train = train['Review']\n",
    "y_train = train['Class']\n",
    "X_test = test['Review']\n",
    "y_test = test['Class']"
   ]
  },
  {
   "cell_type": "code",
   "execution_count": 6,
   "metadata": {
    "collapsed": true
   },
   "outputs": [],
   "source": [
    "# populating categories(target variable) from the dataset\n",
    "categories = data['Class'].unique()"
   ]
  },
  {
   "cell_type": "code",
   "execution_count": 25,
   "metadata": {
    "collapsed": false
   },
   "outputs": [
    {
     "data": {
      "text/plain": [
       "0.0446969696969697"
      ]
     },
     "execution_count": 25,
     "metadata": {},
     "output_type": "execute_result"
    }
   ],
   "source": [
    "# dummy classifier for baseline modeling\n",
    "\n",
    "dummy_clf = Pipeline([('vect', CountVectorizer()),\n",
    "                     ('tfidf', TfidfTransformer()),\n",
    "                     ('clf', DummyClassifier()),\n",
    "])\n",
    "dummy_clf = dummy_clf.fit(X_train, y_train)\n",
    "dummy_predicted = dummy_clf.predict(X_test)\n",
    "np.mean(dummy_predicted == y_test)"
   ]
  },
  {
   "cell_type": "code",
   "execution_count": 7,
   "metadata": {
    "collapsed": false
   },
   "outputs": [
    {
     "data": {
      "text/plain": [
       "0.64136363636363636"
      ]
     },
     "execution_count": 7,
     "metadata": {},
     "output_type": "execute_result"
    }
   ],
   "source": [
    "# decision tree classifier\n",
    "\n",
    "dt_clf = Pipeline([('vect', CountVectorizer(ngram_range=(1,2))),\n",
    "                     ('tfidf', TfidfTransformer()),\n",
    "                     ('clf',  DecisionTreeClassifier(max_depth=100)),\n",
    "])\n",
    "dt_clf = dt_clf.fit(X_train, y_train)\n",
    "dt_predicted = dt_clf.predict(X_test)\n",
    "np.mean(dt_predicted == y_test) "
   ]
  },
  {
   "cell_type": "code",
   "execution_count": null,
   "metadata": {
    "collapsed": true
   },
   "outputs": [],
   "source": [
    "DecisionTreeClassifier(criterion='gini', splitter='best', max_depth=None, min_samples_split=2, min_samples_leaf=1, min_weight_fraction_leaf=0.0, max_features=None, random_state=None, max_leaf_nodes=None, min_impurity_split=1e-07, class_weight=None, presort=False)"
   ]
  },
  {
   "cell_type": "code",
   "execution_count": 55,
   "metadata": {
    "collapsed": false
   },
   "outputs": [
    {
     "name": "stdout",
     "output_type": "stream",
     "text": [
      "                          precision    recall  f1-score   support\n",
      "\n",
      "                    baby       0.79      0.78      0.78       310\n",
      "                  Beauty       0.79      0.64      0.71       312\n",
      "        Apps for Android       0.26      0.76      0.39       292\n",
      "            digitalmusic       0.77      0.74      0.76       314\n",
      "         Office Products       0.73      0.65      0.69       298\n",
      "            Pet Supplies       0.71      0.69      0.70       275\n",
      "              Automobile       0.64      0.56      0.60       295\n",
      "                 grocery       0.66      0.64      0.65       272\n",
      "             Movies & TV       0.72      0.62      0.67       301\n",
      "            ToysAndGames       0.75      0.59      0.66       298\n",
      "       patio&lawn&garden       0.75      0.73      0.74       289\n",
      "Tools & Home Improvement       0.84      0.78      0.81       320\n",
      "             CD & Vinyl        0.81      0.73      0.77       301\n",
      "       SportsAndOutdoors       0.56      0.48      0.52       296\n",
      "             Electronics       0.85      0.76      0.80       306\n",
      "       music instruments       0.66      0.62      0.64       301\n",
      "    Amazon Instant Video       0.64      0.61      0.62       304\n",
      "   Cellphone Accessories       0.87      0.83      0.85       310\n",
      "                  Health       0.82      0.75      0.78       306\n",
      "    Clothing & Jewellery       0.84      0.77      0.80       308\n",
      "          HomeAndKitchen       0.75      0.57      0.65       279\n",
      "              videogames       0.82      0.81      0.82       313\n",
      "\n",
      "             avg / total       0.73      0.69      0.70      6600\n",
      "\n"
     ]
    }
   ],
   "source": [
    "#Metrics for Decision Tree Classifier\n",
    "print(metrics.classification_report(y_test, dt_predicted,\n",
    "    target_names=categories))"
   ]
  },
  {
   "cell_type": "code",
   "execution_count": 8,
   "metadata": {
    "collapsed": false
   },
   "outputs": [
    {
     "data": {
      "text/plain": [
       "0.84727272727272729"
      ]
     },
     "execution_count": 8,
     "metadata": {},
     "output_type": "execute_result"
    }
   ],
   "source": [
    "# SGD Classifier\n",
    "\n",
    "sgd_clf = Pipeline([('vect', CountVectorizer(ngram_range=(1,2))),\n",
    "                     ('tfidf', TfidfTransformer()),\n",
    "                     ('clf', SGDClassifier(loss='hinge', penalty='l2',\n",
    "                                           alpha=1e-3, n_iter=5)),\n",
    "])\n",
    "sgd_clf = sgd_clf.fit(X_train, y_train)\n",
    "sgd_predicted = sgd_clf.predict(X_test)\n",
    "np.mean(sgd_predicted == y_test) "
   ]
  },
  {
   "cell_type": "code",
   "execution_count": 58,
   "metadata": {
    "collapsed": false
   },
   "outputs": [
    {
     "name": "stdout",
     "output_type": "stream",
     "text": [
      "                          precision    recall  f1-score   support\n",
      "\n",
      "                    baby       0.88      0.96      0.92       310\n",
      "                  Beauty       0.95      0.77      0.85       312\n",
      "        Apps for Android       0.82      0.79      0.81       292\n",
      "            digitalmusic       0.85      0.94      0.89       314\n",
      "         Office Products       0.92      0.78      0.84       298\n",
      "            Pet Supplies       0.75      0.87      0.81       275\n",
      "              Automobile       0.88      0.81      0.85       295\n",
      "                 grocery       0.86      0.80      0.83       272\n",
      "             Movies & TV       0.84      0.81      0.83       301\n",
      "            ToysAndGames       0.87      0.84      0.85       298\n",
      "       patio&lawn&garden       0.87      0.91      0.89       289\n",
      "Tools & Home Improvement       0.89      0.91      0.90       320\n",
      "             CD & Vinyl        0.85      0.95      0.90       301\n",
      "       SportsAndOutdoors       0.88      0.72      0.79       296\n",
      "             Electronics       0.90      0.94      0.92       306\n",
      "       music instruments       0.88      0.74      0.80       301\n",
      "    Amazon Instant Video       0.89      0.90      0.89       304\n",
      "   Cellphone Accessories       0.92      1.00      0.96       310\n",
      "                  Health       0.88      0.94      0.91       306\n",
      "    Clothing & Jewellery       0.93      0.92      0.93       308\n",
      "          HomeAndKitchen       0.90      0.83      0.86       279\n",
      "              videogames       0.77      0.99      0.87       313\n",
      "\n",
      "             avg / total       0.87      0.87      0.87      6600\n",
      "\n"
     ]
    }
   ],
   "source": [
    "#Metrics for SGD Classifier\n",
    "print(metrics.classification_report(y_test, sgd_predicted,\n",
    "    target_names=categories))"
   ]
  },
  {
   "cell_type": "code",
   "execution_count": 14,
   "metadata": {
    "collapsed": false
   },
   "outputs": [
    {
     "data": {
      "text/plain": [
       "0.86015151515151511"
      ]
     },
     "execution_count": 14,
     "metadata": {},
     "output_type": "execute_result"
    }
   ],
   "source": [
    "# Multinomial NB Classifier\n",
    "\n",
    "mnb_clf = Pipeline([('vect', CountVectorizer(ngram_range=(1,3))),\n",
    "                     ('tfidf', TfidfTransformer()),\n",
    "                     ('clf',  MultinomialNB()),\n",
    "])\n",
    "mnb_clf = mnb_clf.fit(X_train, y_train)\n",
    "mnb_predicted = mnb_clf.predict(X_test)\n",
    "np.mean(mnb_predicted == y_test) "
   ]
  },
  {
   "cell_type": "code",
   "execution_count": 60,
   "metadata": {
    "collapsed": false
   },
   "outputs": [
    {
     "name": "stdout",
     "output_type": "stream",
     "text": [
      "                          precision    recall  f1-score   support\n",
      "\n",
      "                    baby       0.98      0.92      0.95       310\n",
      "                  Beauty       0.99      0.68      0.80       312\n",
      "        Apps for Android       0.89      0.78      0.83       292\n",
      "            digitalmusic       0.88      0.94      0.91       314\n",
      "         Office Products       0.91      0.95      0.93       298\n",
      "            Pet Supplies       0.73      0.89      0.80       275\n",
      "              Automobile       0.96      0.83      0.89       295\n",
      "                 grocery       0.66      0.89      0.76       272\n",
      "             Movies & TV       0.90      0.81      0.85       301\n",
      "            ToysAndGames       0.88      0.87      0.87       298\n",
      "       patio&lawn&garden       0.93      0.91      0.92       289\n",
      "Tools & Home Improvement       0.94      0.91      0.93       320\n",
      "             CD & Vinyl        0.96      0.94      0.95       301\n",
      "       SportsAndOutdoors       0.87      0.79      0.83       296\n",
      "             Electronics       0.82      0.97      0.88       306\n",
      "       music instruments       0.90      0.91      0.90       301\n",
      "    Amazon Instant Video       0.89      0.93      0.91       304\n",
      "   Cellphone Accessories       0.98      1.00      0.99       310\n",
      "                  Health       0.97      0.92      0.95       306\n",
      "    Clothing & Jewellery       0.98      0.89      0.93       308\n",
      "          HomeAndKitchen       0.88      0.88      0.88       279\n",
      "              videogames       0.86      0.99      0.92       313\n",
      "\n",
      "             avg / total       0.90      0.89      0.89      6600\n",
      "\n"
     ]
    }
   ],
   "source": [
    "#Metrics for Multinomial NB  Classifier\n",
    "print(metrics.classification_report(y_test, mnb_predicted,\n",
    "    target_names=categories))"
   ]
  },
  {
   "cell_type": "code",
   "execution_count": 10,
   "metadata": {
    "collapsed": false
   },
   "outputs": [
    {
     "data": {
      "text/plain": [
       "0.84499999999999997"
      ]
     },
     "execution_count": 10,
     "metadata": {},
     "output_type": "execute_result"
    }
   ],
   "source": [
    "# Random Forest Classifier\n",
    "\n",
    "rf_clf = Pipeline([('vect', CountVectorizer(ngram_range=(1,2))),\n",
    "                     ('tfidf', TfidfTransformer()),\n",
    "                     ('clf',  RandomForestClassifier(n_estimators=300, max_depth=None,\n",
    "                                                     min_samples_split=50, random_state=0)),\n",
    "])\n",
    "rf_clf = rf_clf.fit(X_train, y_train)\n",
    "rf_predicted = rf_clf.predict(X_test)\n",
    "np.mean(rf_predicted == y_test) "
   ]
  },
  {
   "cell_type": "code",
   "execution_count": 62,
   "metadata": {
    "collapsed": false
   },
   "outputs": [
    {
     "name": "stdout",
     "output_type": "stream",
     "text": [
      "                          precision    recall  f1-score   support\n",
      "\n",
      "                    baby       0.88      0.93      0.90       310\n",
      "                  Beauty       0.95      0.79      0.86       312\n",
      "        Apps for Android       0.71      0.77      0.74       292\n",
      "            digitalmusic       0.85      0.92      0.88       314\n",
      "         Office Products       0.89      0.81      0.85       298\n",
      "            Pet Supplies       0.77      0.85      0.81       275\n",
      "              Automobile       0.71      0.78      0.74       295\n",
      "                 grocery       0.83      0.73      0.78       272\n",
      "             Movies & TV       0.82      0.81      0.81       301\n",
      "            ToysAndGames       0.86      0.78      0.82       298\n",
      "       patio&lawn&garden       0.88      0.90      0.89       289\n",
      "Tools & Home Improvement       0.88      0.88      0.88       320\n",
      "             CD & Vinyl        0.86      0.92      0.89       301\n",
      "       SportsAndOutdoors       0.89      0.59      0.71       296\n",
      "             Electronics       0.87      0.92      0.89       306\n",
      "       music instruments       0.79      0.81      0.80       301\n",
      "    Amazon Instant Video       0.80      0.83      0.81       304\n",
      "   Cellphone Accessories       0.90      0.97      0.93       310\n",
      "                  Health       0.85      0.91      0.88       306\n",
      "    Clothing & Jewellery       0.91      0.88      0.90       308\n",
      "          HomeAndKitchen       0.84      0.80      0.82       279\n",
      "              videogames       0.87      0.96      0.91       313\n",
      "\n",
      "             avg / total       0.85      0.84      0.84      6600\n",
      "\n"
     ]
    }
   ],
   "source": [
    "#Metrics for Random Forest  Classifier\n",
    "print(metrics.classification_report(y_test, rf_predicted,\n",
    "    target_names=categories))"
   ]
  },
  {
   "cell_type": "code",
   "execution_count": 11,
   "metadata": {
    "collapsed": false
   },
   "outputs": [
    {
     "data": {
      "text/plain": [
       "0.87575757575757573"
      ]
     },
     "execution_count": 11,
     "metadata": {},
     "output_type": "execute_result"
    }
   ],
   "source": [
    "#Logistic Regression\n",
    "\n",
    "lr_clf = Pipeline([('vect', CountVectorizer(tokenizer=LemmaTokenizer(),ngram_range=(1,2))),\n",
    "                     ('tfidf', TfidfTransformer()),\n",
    "                     ('clf',  LogisticRegression(penalty='l2', dual=False, tol=0.0001, \n",
    "                                                 C=1.0, fit_intercept=True, intercept_scaling=1, \n",
    "                                                 solver='liblinear', max_iter=100, multi_class='ovr',\n",
    "                                                 verbose=0, warm_start=False, n_jobs=1)),\n",
    "])\n",
    "lr_clf = lr_clf.fit(X_train, y_train)\n",
    "lr_predicted = lr_clf.predict(X_test)\n",
    "np.mean(lr_predicted == y_test)"
   ]
  },
  {
   "cell_type": "code",
   "execution_count": 64,
   "metadata": {
    "collapsed": false
   },
   "outputs": [
    {
     "name": "stdout",
     "output_type": "stream",
     "text": [
      "                          precision    recall  f1-score   support\n",
      "\n",
      "                    baby       0.94      0.96      0.95       310\n",
      "                  Beauty       0.98      0.84      0.90       312\n",
      "        Apps for Android       0.78      0.88      0.83       292\n",
      "            digitalmusic       0.93      0.93      0.93       314\n",
      "         Office Products       0.93      0.91      0.92       298\n",
      "            Pet Supplies       0.82      0.86      0.84       275\n",
      "              Automobile       0.88      0.88      0.88       295\n",
      "                 grocery       0.86      0.87      0.87       272\n",
      "             Movies & TV       0.85      0.85      0.85       301\n",
      "            ToysAndGames       0.91      0.86      0.88       298\n",
      "       patio&lawn&garden       0.94      0.90      0.92       289\n",
      "Tools & Home Improvement       0.96      0.90      0.93       320\n",
      "             CD & Vinyl        0.97      0.94      0.95       301\n",
      "       SportsAndOutdoors       0.84      0.86      0.85       296\n",
      "             Electronics       0.95      0.93      0.94       306\n",
      "       music instruments       0.89      0.90      0.89       301\n",
      "    Amazon Instant Video       0.89      0.93      0.91       304\n",
      "   Cellphone Accessories       0.97      0.99      0.98       310\n",
      "                  Health       0.90      0.95      0.92       306\n",
      "    Clothing & Jewellery       0.96      0.92      0.94       308\n",
      "          HomeAndKitchen       0.87      0.89      0.88       279\n",
      "              videogames       0.93      0.98      0.96       313\n",
      "\n",
      "             avg / total       0.91      0.91      0.91      6600\n",
      "\n"
     ]
    }
   ],
   "source": [
    "#Metrics for Logistic Regression  Classifier\n",
    "print(metrics.classification_report(y_test, lr_predicted,\n",
    "    target_names=categories))"
   ]
  },
  {
   "cell_type": "code",
   "execution_count": 1,
   "metadata": {
    "collapsed": true
   },
   "outputs": [],
   "source": [
    "######### TESTING BELOW ######### BINARY-------"
   ]
  },
  {
   "cell_type": "code",
   "execution_count": 89,
   "metadata": {
    "collapsed": false
   },
   "outputs": [
    {
     "data": {
      "text/plain": [
       "0.8937878787878788"
      ]
     },
     "execution_count": 89,
     "metadata": {},
     "output_type": "execute_result"
    }
   ],
   "source": [
    "lr_clf = Pipeline([('vect', CountVectorizer()),\n",
    "                     ('clf',  LogisticRegression()),\n",
    "])\n",
    "lr_clf = lr_clf.fit(X_train, y_train)\n",
    "lr_predicted = lr_clf.predict(X_test)\n",
    "np.mean(lr_predicted == y_test)"
   ]
  },
  {
   "cell_type": "code",
   "execution_count": null,
   "metadata": {
    "collapsed": true
   },
   "outputs": [],
   "source": []
  }
 ],
 "metadata": {
  "anaconda-cloud": {},
  "kernelspec": {
   "display_name": "Python [conda root]",
   "language": "python",
   "name": "conda-root-py"
  },
  "language_info": {
   "codemirror_mode": {
    "name": "ipython",
    "version": 3
   },
   "file_extension": ".py",
   "mimetype": "text/x-python",
   "name": "python",
   "nbconvert_exporter": "python",
   "pygments_lexer": "ipython3",
   "version": "3.5.2"
  }
 },
 "nbformat": 4,
 "nbformat_minor": 1
}
